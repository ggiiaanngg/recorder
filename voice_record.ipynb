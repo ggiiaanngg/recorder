{
 "cells": [
  {
   "cell_type": "code",
   "execution_count": 13,
   "metadata": {
    "scrolled": true
   },
   "outputs": [
    {
     "data": {
      "text/plain": [
       "* 0 Built-in Microphone, Core Audio (2 in, 0 out)\n",
       "  1 Built-in Output, Core Audio (0 in, 2 out)"
      ]
     },
     "execution_count": 13,
     "metadata": {},
     "output_type": "execute_result"
    }
   ],
   "source": [
    "import soundfile as sf\n",
    "import sounddevice as sd\n",
    "import re\n",
    "import os\n",
    "\n",
    "misc = sd.query_devices()\n",
    "misc"
   ]
  },
  {
   "cell_type": "code",
   "execution_count": 14,
   "metadata": {},
   "outputs": [
    {
     "name": "stdout",
     "output_type": "stream",
     "text": [
      "{'name': 'Built-in Output', 'hostapi': 0, 'max_input_channels': 0, 'max_output_channels': 2, 'default_low_input_latency': 0.01, 'default_low_output_latency': 0.012607709750566893, 'default_high_input_latency': 0.1, 'default_high_output_latency': 0.022766439909297054, 'default_samplerate': 44100.0}\n"
     ]
    }
   ],
   "source": [
    "sd.default.device = 0\n",
    "print(misc[1])"
   ]
  },
  {
   "cell_type": "code",
   "execution_count": 15,
   "metadata": {},
   "outputs": [],
   "source": [
    "def sync_record(filename, duration, sr, channels):\n",
    "    print('Recording...')\n",
    "    my_rec = sd.rec(samplerate=sr, channels=channels, frames=int(duration*sr))\n",
    "    sd.wait()\n",
    "    sf.write(filename, data=my_rec, samplerate=sr)\n",
    "    print('Complete recording!')"
   ]
  },
  {
   "cell_type": "code",
   "execution_count": 16,
   "metadata": {
    "scrolled": true
   },
   "outputs": [
    {
     "name": "stdout",
     "output_type": "stream",
     "text": [
      "\n",
      "Read out loud:\n",
      "Có làm\n",
      "\n",
      "Press Enter to start recording:\n",
      "\n",
      "Recording...\n",
      "Complete recording!\n",
      "Press enter to continue\n",
      "__________\n",
      "\n",
      "Read out loud:\n",
      "\n",
      "Thì mới\n",
      "\n",
      "Press Enter to start recording:\n",
      "\n",
      "Recording...\n",
      "Complete recording!\n",
      "Press enter to continue\n",
      "__________\n",
      "\n",
      "Read out loud:\n",
      "\n",
      "Có ăn\n",
      "\n",
      "Press Enter to start recording:\n",
      "\n",
      "Recording...\n",
      "Complete recording!\n",
      "Press enter to continue\n",
      "__________\n",
      "recorded!\n"
     ]
    }
   ],
   "source": [
    "TEXT_FILE_INPUT = \"input/test.txt\"\n",
    "FOLDER_OUTPUT = \"ouput\"\n",
    "\n",
    "\n",
    "def record_voice(file, folder, filetext):\n",
    "#     os.mkdir('FOLDER_OUTPUT')\n",
    "    with open(file, encoding=\"utf8\" ) as f:\n",
    "        content = f.read()\n",
    "        content = content.strip()\n",
    "        content = re.sub(' +', ' ', content)\n",
    "        content = content.split(\".\")\n",
    "        f.close()\n",
    "    i = 1\n",
    "    for sentence in content:\n",
    "        if sentence == \"\":\n",
    "            continue\n",
    "        print(\"\\nRead out loud:\")\n",
    "        print(sentence)\n",
    "        \n",
    "        try:\n",
    "            input(\"\\nPress Enter to start recording:\\n\")\n",
    "        except SyntaxError:\n",
    "            pass\n",
    "        \n",
    "        duration = int(len(sentence.split()))\n",
    "        name = \"audio_\" + str(i)\n",
    "        filename = FOLDER_OUTPUT +\"/\" + name +\".wav\"\n",
    "        sync_record(filename, duration , 22050, 1)\n",
    "        file = open(textfile, \"a+\",encoding='utf8')\n",
    "        file.write(name + '\\n')\n",
    "        file.write(sentence + '\\n')\n",
    "        file.close()\n",
    "        \n",
    "        i += 1\n",
    "        try:\n",
    "            input(\"Press enter to continue\\n__________\")\n",
    "        except SyntaxError:\n",
    "            pass\n",
    "        \n",
    "    print(\"recorded!\")\n",
    "    \n",
    "textfile = FOLDER_OUTPUT + \"/\" + \"recorded_text.txt\"\n",
    "f = open(textfile, \"w+\",encoding='utf8')\n",
    "f.close()\n",
    "\n",
    "record_voice(TEXT_FILE_INPUT, FOLDER_OUTPUT, textfile)\n",
    "        \n",
    "        \n",
    "        \n"
   ]
  },
  {
   "cell_type": "code",
   "execution_count": null,
   "metadata": {},
   "outputs": [],
   "source": [
    "\n",
    "\n",
    "\n",
    "\n",
    "\n",
    "\n"
   ]
  },
  {
   "cell_type": "code",
   "execution_count": null,
   "metadata": {},
   "outputs": [],
   "source": []
  },
  {
   "cell_type": "code",
   "execution_count": null,
   "metadata": {},
   "outputs": [],
   "source": []
  },
  {
   "cell_type": "code",
   "execution_count": null,
   "metadata": {},
   "outputs": [],
   "source": []
  },
  {
   "cell_type": "code",
   "execution_count": null,
   "metadata": {},
   "outputs": [],
   "source": []
  }
 ],
 "metadata": {
  "kernelspec": {
   "display_name": "Python 3",
   "language": "python",
   "name": "python3"
  }
 },
 "nbformat": 4,
 "nbformat_minor": 4
}
