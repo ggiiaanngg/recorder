{
 "cells": [
  {
   "cell_type": "code",
   "execution_count": 64,
   "metadata": {
    "scrolled": true
   },
   "outputs": [],
   "source": [
    "import soundfile as sf\n",
    "import sounddevice as sd\n",
    "import re\n",
    "import os\n",
    "\n"
   ]
  },
  {
   "cell_type": "code",
   "execution_count": 65,
   "metadata": {},
   "outputs": [],
   "source": [
    "sd.default.device = 0\n",
    "TEXT_FILE_INPUT = \"input/tamsu.txt\"\n",
    "FOLDER_OUTPUT = \"ouput\""
   ]
  },
  {
   "cell_type": "code",
   "execution_count": 66,
   "metadata": {},
   "outputs": [],
   "source": [
    "def sync_record(filename, duration, sr, channels):\n",
    "    print('start record')\n",
    "    my_rec = sd.rec(samplerate=sr, channels=channels, frames=int(duration*sr))\n",
    "    sd.wait()\n",
    "    sf.write(filename, data=my_rec, samplerate=sr)\n",
    "    print('done')"
   ]
  },
  {
   "cell_type": "code",
   "execution_count": null,
   "metadata": {
    "scrolled": true
   },
   "outputs": [
    {
     "name": "stdout",
     "output_type": "stream",
     "text": [
      "Sự tuyệt vọng bóp nghẹt ý chí tôi\n",
      "Tôi làm trong ngành giáo dục, đã mất việc vài tháng nay\n",
      "\n",
      "Press Enter\n",
      "\n",
      "start record\n",
      "done\n",
      "Press enter to continue\n",
      " Trước tình hình đại dịch Covid-19, không biết đến khi nào tôi có thể tìm được việc\n",
      "\n",
      "Press Enter\n",
      "\n",
      "start record\n",
      "done\n"
     ]
    }
   ],
   "source": [
    "def record_voice(file, folder, filetext):\n",
    "    with open(file, encoding=\"utf8\" ) as f:\n",
    "        content = f.read()\n",
    "        content = content.split(\".\")\n",
    "        f.close()\n",
    "    i = 1\n",
    "    for sentence in content:\n",
    "        if sentence == \"\":\n",
    "            continue\n",
    "        print(sentence)\n",
    "        \n",
    "        try:\n",
    "            input(\"\\nPress Enter\\n\")\n",
    "        except SyntaxError:\n",
    "            pass\n",
    "        \n",
    "        duration = int(len(sentence.split()))/3\n",
    "        name = \"sentence\" + str(i)\n",
    "        filename = FOLDER_OUTPUT +\"/\" + name +\".wav\"\n",
    "        sync_record(filename, duration , 22050, 1)\n",
    "        file = open(textfile, \"a+\",encoding='utf8')\n",
    "        file.write(name + '\\n')\n",
    "        file.write(sentence + '\\n')\n",
    "        file.close()\n",
    "        i += 1\n",
    "        try:\n",
    "            input(\"Press enter to continue\")\n",
    "        except SyntaxError:\n",
    "            pass\n",
    "        \n",
    "    print(\"recorded!\")\n",
    "    \n",
    "textfile = FOLDER_OUTPUT + \"/\" + \"recorded_text.txt\"\n",
    "f = open(textfile, \"w+\",encoding='utf8')\n",
    "f.close()\n",
    "\n",
    "record_voice(TEXT_FILE_INPUT, FOLDER_OUTPUT, textfile)\n",
    "        \n",
    "        \n",
    "        \n"
   ]
  },
  {
   "cell_type": "code",
   "execution_count": null,
   "metadata": {},
   "outputs": [],
   "source": [
    "\n",
    "\n",
    "\n",
    "\n",
    "\n",
    "\n"
   ]
  },
  {
   "cell_type": "code",
   "execution_count": null,
   "metadata": {},
   "outputs": [],
   "source": []
  },
  {
   "cell_type": "code",
   "execution_count": null,
   "metadata": {},
   "outputs": [],
   "source": []
  },
  {
   "cell_type": "code",
   "execution_count": null,
   "metadata": {},
   "outputs": [],
   "source": []
  },
  {
   "cell_type": "code",
   "execution_count": null,
   "metadata": {},
   "outputs": [],
   "source": []
  }
 ],
 "metadata": {
  "kernelspec": {
   "display_name": "Python 3",
   "language": "python",
   "name": "python3"
  },
  "language_info": {
   "codemirror_mode": {
    "name": "ipython",
    "version": 3
   },
   "file_extension": ".py",
   "mimetype": "text/x-python",
   "name": "python",
   "nbconvert_exporter": "python",
   "pygments_lexer": "ipython3",
   "version": "3.8.2"
  }
 },
 "nbformat": 4,
 "nbformat_minor": 4
}
